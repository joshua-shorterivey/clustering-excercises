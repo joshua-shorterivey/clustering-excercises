{
 "cells": [
  {
   "cell_type": "code",
   "execution_count": 34,
   "metadata": {},
   "outputs": [],
   "source": [
    "#basic imports\n",
    "import numpy as np\n",
    "import pandas as pd\n",
    "import matplotlib.pyplot as plt\n",
    "import seaborn as sns\n",
    "import scipy.stats as stats\n",
    "\n",
    "import env\n",
    "\n",
    "from sklearn.model_selection import train_test_split\n",
    "from sklearn.preprocessing import MinMaxScaler\n"
   ]
  },
  {
   "cell_type": "markdown",
   "metadata": {},
   "source": [
    "## Acquire data from the customers table in the mall_customers database.\n"
   ]
  },
  {
   "cell_type": "code",
   "execution_count": 4,
   "metadata": {},
   "outputs": [],
   "source": [
    "\n",
    "def get_connection(db, user=env.user, host=env.host, password=env.password):\n",
    "    return f'mysql+pymysql://{user}:{password}@{host}/{db}'\n",
    "\n",
    "def get_mallcustomer_data():\n",
    "    '''\n",
    "    Reads in all fields from the customers table in the mall_customers schema from data.codeup.com\n",
    "    \n",
    "    parameters: None\n",
    "    \n",
    "    returns: a single Pandas DataFrame with the index set to the primary customer_id field\n",
    "    '''\n",
    "    df = pd.read_sql('SELECT * FROM customers;', get_connection('mall_customers'))\n",
    "    return df.set_index('customer_id')"
   ]
  },
  {
   "cell_type": "code",
   "execution_count": null,
   "metadata": {},
   "outputs": [],
   "source": []
  },
  {
   "cell_type": "code",
   "execution_count": 5,
   "metadata": {},
   "outputs": [],
   "source": [
    "df = get_mallcustomer_data()"
   ]
  },
  {
   "cell_type": "markdown",
   "metadata": {},
   "source": [
    "Summarize the data (include distributions and descriptive statistics).\n"
   ]
  },
  {
   "cell_type": "code",
   "execution_count": 6,
   "metadata": {},
   "outputs": [],
   "source": [
    "# examine row by row basics:\n",
    "\n",
    "def nulls_by_row(df):\n",
    "    num_missing = df.isnull().sum(axis=1)\n",
    "    prnt_miss = num_missing / df.shape[1] * 100\n",
    "    rows_missing = pd.DataFrame({'num_cols_missing': num_missing, 'percent_cols_missing': prnt_miss})\n",
    "    rows_missing = rows_missing.reset_index().groupby(['num_cols_missing', 'percent_cols_missing']).count().reset_index().\\\n",
    "        rename(columns={'customer_id':'count'})\n",
    "\n",
    "    return rows_missing"
   ]
  },
  {
   "cell_type": "code",
   "execution_count": 7,
   "metadata": {},
   "outputs": [],
   "source": [
    "def nulls_by_col(df):\n",
    "    num_missing= df.isnull().sum()\n",
    "    percnt_miss = num_missing / df.shape[0] * 100\n",
    "    cols_missing = pd.DataFrame(\n",
    "        {\n",
    "            'num_rows_missing': num_missing,\n",
    "            'percent_rows_missing': percnt_miss\n",
    "        }\n",
    "    )\n",
    "    return cols_missing"
   ]
  },
  {
   "cell_type": "code",
   "execution_count": 8,
   "metadata": {},
   "outputs": [],
   "source": [
    "def summarize(df):\n",
    "    print('DaataFrame head:\\n')\n",
    "    print(df.head().to_markdown())\n",
    "    print('-----')\n",
    "    print('DataFrame info:\\n')\n",
    "    print (df.info())\n",
    "    print('---')\n",
    "    print('DataFrame describe:\\n')\n",
    "    print (df.describe())\n",
    "    print('---')\n",
    "    print('DataFrame null value asssessment:\\n')\n",
    "    print('Nulls By Column:', nulls_by_col(df))\n",
    "    print('----')\n",
    "    print('Nulls By Row:', nulls_by_row(df))\n",
    "    numerical_cols = [col for col in df.columns if df[col].dtype !='O']\n",
    "    categorical_cols = [col for col in df.columns if col not in numerical_cols]\n",
    "    print('value_counts: \\n')\n",
    "    for col in df.columns:\n",
    "        print(f'Column Names: {col}')\n",
    "        if col in categorical_cols:\n",
    "            print(df[col].value_counts())\n",
    "        else:\n",
    "            print(df[col].value_counts(bins=10, sort=False))\n",
    "            print('---')\n",
    "    print('Report Finished')\n",
    "    return"
   ]
  },
  {
   "cell_type": "code",
   "execution_count": 9,
   "metadata": {},
   "outputs": [
    {
     "name": "stdout",
     "output_type": "stream",
     "text": [
      "DaataFrame head:\n",
      "\n",
      "|   customer_id | gender   |   age |   annual_income |   spending_score |\n",
      "|--------------:|:---------|------:|----------------:|-----------------:|\n",
      "|             1 | Male     |    19 |              15 |               39 |\n",
      "|             2 | Male     |    21 |              15 |               81 |\n",
      "|             3 | Female   |    20 |              16 |                6 |\n",
      "|             4 | Female   |    23 |              16 |               77 |\n",
      "|             5 | Female   |    31 |              17 |               40 |\n",
      "-----\n",
      "DataFrame info:\n",
      "\n",
      "<class 'pandas.core.frame.DataFrame'>\n",
      "Int64Index: 200 entries, 1 to 200\n",
      "Data columns (total 4 columns):\n",
      " #   Column          Non-Null Count  Dtype \n",
      "---  ------          --------------  ----- \n",
      " 0   gender          200 non-null    object\n",
      " 1   age             200 non-null    int64 \n",
      " 2   annual_income   200 non-null    int64 \n",
      " 3   spending_score  200 non-null    int64 \n",
      "dtypes: int64(3), object(1)\n",
      "memory usage: 7.8+ KB\n",
      "None\n",
      "---\n",
      "DataFrame describe:\n",
      "\n",
      "              age  annual_income  spending_score\n",
      "count  200.000000     200.000000      200.000000\n",
      "mean    38.850000      60.560000       50.200000\n",
      "std     13.969007      26.264721       25.823522\n",
      "min     18.000000      15.000000        1.000000\n",
      "25%     28.750000      41.500000       34.750000\n",
      "50%     36.000000      61.500000       50.000000\n",
      "75%     49.000000      78.000000       73.000000\n",
      "max     70.000000     137.000000       99.000000\n",
      "---\n",
      "DataFrame null value asssessment:\n",
      "\n",
      "Nulls By Column:                 num_rows_missing  percent_rows_missing\n",
      "gender                         0                   0.0\n",
      "age                            0                   0.0\n",
      "annual_income                  0                   0.0\n",
      "spending_score                 0                   0.0\n",
      "----\n",
      "Nulls By Row:    num_cols_missing  percent_cols_missing  count\n",
      "0                 0                   0.0    200\n",
      "value_counts: \n",
      "\n",
      "Column Names: gender\n",
      "Female    112\n",
      "Male       88\n",
      "Name: gender, dtype: int64\n",
      "Column Names: age\n",
      "(17.947, 23.2]    31\n",
      "(23.2, 28.4]      19\n",
      "(28.4, 33.6]      34\n",
      "(33.6, 38.8]      29\n",
      "(38.8, 44.0]      18\n",
      "(44.0, 49.2]      24\n",
      "(49.2, 54.4]      15\n",
      "(54.4, 59.6]      10\n",
      "(59.6, 64.8]       6\n",
      "(64.8, 70.0]      14\n",
      "Name: age, dtype: int64\n",
      "---\n",
      "Column Names: annual_income\n",
      "(14.877, 27.2]    24\n",
      "(27.2, 39.4]      22\n",
      "(39.4, 51.6]      28\n",
      "(51.6, 63.8]      38\n",
      "(63.8, 76.0]      32\n",
      "(76.0, 88.2]      34\n",
      "(88.2, 100.4]      8\n",
      "(100.4, 112.6]     6\n",
      "(112.6, 124.8]     4\n",
      "(124.8, 137.0]     4\n",
      "Name: annual_income, dtype: int64\n",
      "---\n",
      "Column Names: spending_score\n",
      "(0.901, 10.8]    16\n",
      "(10.8, 20.6]     20\n",
      "(20.6, 30.4]     10\n",
      "(30.4, 40.2]     17\n",
      "(40.2, 50.0]     40\n",
      "(50.0, 59.8]     32\n",
      "(59.8, 69.6]     11\n",
      "(69.6, 79.4]     24\n",
      "(79.4, 89.2]     14\n",
      "(89.2, 99.0]     16\n",
      "Name: spending_score, dtype: int64\n",
      "---\n",
      "Report Finished\n"
     ]
    }
   ],
   "source": [
    "summarize(df)"
   ]
  },
  {
   "cell_type": "markdown",
   "metadata": {},
   "source": [
    "Detect outliers using IQR.\n"
   ]
  },
  {
   "cell_type": "code",
   "execution_count": 10,
   "metadata": {},
   "outputs": [],
   "source": [
    "def get_upper_outliers(s, k=1.5):\n",
    "    q1, q3 = s.quantile([0.25, 0.75])\n",
    "    iqr = q3 - q1\n",
    "    upper_bound = q3 + k*iqr\n",
    "\n",
    "    return s.apply(lambda x: max([x - upper_bound, 0]))"
   ]
  },
  {
   "cell_type": "code",
   "execution_count": 11,
   "metadata": {},
   "outputs": [],
   "source": [
    "def add_upper_outlier_columns(df, k=1.5):\n",
    "    for col in df.select_dtypes('number'):\n",
    "        df[col + '_upper_outliers'] = get_upper_outliers(df[col], k)\n",
    "    return df"
   ]
  },
  {
   "cell_type": "code",
   "execution_count": 15,
   "metadata": {},
   "outputs": [],
   "source": [
    "df = add_upper_outlier_columns(df)"
   ]
  },
  {
   "cell_type": "code",
   "execution_count": 18,
   "metadata": {},
   "outputs": [
    {
     "data": {
      "text/html": [
       "<div>\n",
       "<style scoped>\n",
       "    .dataframe tbody tr th:only-of-type {\n",
       "        vertical-align: middle;\n",
       "    }\n",
       "\n",
       "    .dataframe tbody tr th {\n",
       "        vertical-align: top;\n",
       "    }\n",
       "\n",
       "    .dataframe thead th {\n",
       "        text-align: right;\n",
       "    }\n",
       "</style>\n",
       "<table border=\"1\" class=\"dataframe\">\n",
       "  <thead>\n",
       "    <tr style=\"text-align: right;\">\n",
       "      <th></th>\n",
       "      <th>gender</th>\n",
       "      <th>age</th>\n",
       "      <th>annual_income</th>\n",
       "      <th>spending_score</th>\n",
       "      <th>age_upper_outliers</th>\n",
       "      <th>annual_income_upper_outliers</th>\n",
       "      <th>spending_score_upper_outliers</th>\n",
       "    </tr>\n",
       "    <tr>\n",
       "      <th>customer_id</th>\n",
       "      <th></th>\n",
       "      <th></th>\n",
       "      <th></th>\n",
       "      <th></th>\n",
       "      <th></th>\n",
       "      <th></th>\n",
       "      <th></th>\n",
       "    </tr>\n",
       "  </thead>\n",
       "  <tbody>\n",
       "    <tr>\n",
       "      <th>1</th>\n",
       "      <td>Male</td>\n",
       "      <td>19</td>\n",
       "      <td>15</td>\n",
       "      <td>39</td>\n",
       "      <td>0</td>\n",
       "      <td>0.0</td>\n",
       "      <td>0</td>\n",
       "    </tr>\n",
       "    <tr>\n",
       "      <th>2</th>\n",
       "      <td>Male</td>\n",
       "      <td>21</td>\n",
       "      <td>15</td>\n",
       "      <td>81</td>\n",
       "      <td>0</td>\n",
       "      <td>0.0</td>\n",
       "      <td>0</td>\n",
       "    </tr>\n",
       "    <tr>\n",
       "      <th>3</th>\n",
       "      <td>Female</td>\n",
       "      <td>20</td>\n",
       "      <td>16</td>\n",
       "      <td>6</td>\n",
       "      <td>0</td>\n",
       "      <td>0.0</td>\n",
       "      <td>0</td>\n",
       "    </tr>\n",
       "    <tr>\n",
       "      <th>4</th>\n",
       "      <td>Female</td>\n",
       "      <td>23</td>\n",
       "      <td>16</td>\n",
       "      <td>77</td>\n",
       "      <td>0</td>\n",
       "      <td>0.0</td>\n",
       "      <td>0</td>\n",
       "    </tr>\n",
       "    <tr>\n",
       "      <th>5</th>\n",
       "      <td>Female</td>\n",
       "      <td>31</td>\n",
       "      <td>17</td>\n",
       "      <td>40</td>\n",
       "      <td>0</td>\n",
       "      <td>0.0</td>\n",
       "      <td>0</td>\n",
       "    </tr>\n",
       "  </tbody>\n",
       "</table>\n",
       "</div>"
      ],
      "text/plain": [
       "             gender  age  annual_income  spending_score  age_upper_outliers  \\\n",
       "customer_id                                                                   \n",
       "1              Male   19             15              39                   0   \n",
       "2              Male   21             15              81                   0   \n",
       "3            Female   20             16               6                   0   \n",
       "4            Female   23             16              77                   0   \n",
       "5            Female   31             17              40                   0   \n",
       "\n",
       "             annual_income_upper_outliers  spending_score_upper_outliers  \n",
       "customer_id                                                               \n",
       "1                                     0.0                              0  \n",
       "2                                     0.0                              0  \n",
       "3                                     0.0                              0  \n",
       "4                                     0.0                              0  \n",
       "5                                     0.0                              0  "
      ]
     },
     "execution_count": 18,
     "metadata": {},
     "output_type": "execute_result"
    }
   ],
   "source": [
    "df.head()"
   ]
  },
  {
   "cell_type": "code",
   "execution_count": 22,
   "metadata": {},
   "outputs": [
    {
     "name": "stdout",
     "output_type": "stream",
     "text": [
      "age_upper_outliers :\n",
      "\n",
      "count    0.0\n",
      "mean     NaN\n",
      "std      NaN\n",
      "min      NaN\n",
      "25%      NaN\n",
      "50%      NaN\n",
      "75%      NaN\n",
      "max      NaN\n",
      "Name: age_upper_outliers, dtype: float64\n",
      "annual_income_upper_outliers :\n",
      "\n",
      "count    2.00\n",
      "mean     4.25\n",
      "std      0.00\n",
      "min      4.25\n",
      "25%      4.25\n",
      "50%      4.25\n",
      "75%      4.25\n",
      "max      4.25\n",
      "Name: annual_income_upper_outliers, dtype: float64\n",
      "spending_score_upper_outliers :\n",
      "\n",
      "count    0.0\n",
      "mean     NaN\n",
      "std      NaN\n",
      "min      NaN\n",
      "25%      NaN\n",
      "50%      NaN\n",
      "75%      NaN\n",
      "max      NaN\n",
      "Name: spending_score_upper_outliers, dtype: float64\n"
     ]
    }
   ],
   "source": [
    "outlier_cols = [col for col in df.columns if col.endswith('_outliers')]\n",
    "for col in outlier_cols:\n",
    "    print(col, ':\\n')\n",
    "    subset = df[col][df[col] > 0] \n",
    "    print(subset.describe())"
   ]
  },
  {
   "cell_type": "code",
   "execution_count": null,
   "metadata": {},
   "outputs": [],
   "source": []
  },
  {
   "cell_type": "markdown",
   "metadata": {},
   "source": [
    "Split data into train, validate, and test.\n"
   ]
  },
  {
   "cell_type": "code",
   "execution_count": 27,
   "metadata": {},
   "outputs": [],
   "source": [
    "def split_train_test_validate(df):\n",
    "    train_validate, test = train_test_split(df, test_size= .2, random_state=514)\n",
    "    train, validate = train_test_split(train_validate, test_size= .3, random_state=514)\n",
    "    print(train.shape, validate.shape, test.shape)\n",
    "    return train, validate, test"
   ]
  },
  {
   "cell_type": "code",
   "execution_count": 28,
   "metadata": {},
   "outputs": [
    {
     "name": "stdout",
     "output_type": "stream",
     "text": [
      "(112, 7) (48, 7) (40, 7)\n"
     ]
    }
   ],
   "source": [
    "train, validate, test = split_train_test_validate(df)"
   ]
  },
  {
   "cell_type": "markdown",
   "metadata": {},
   "source": [
    "Encode categorical columns using a one hot encoder (pd.get_dummies).\n"
   ]
  },
  {
   "cell_type": "code",
   "execution_count": 29,
   "metadata": {},
   "outputs": [],
   "source": [
    "categorical_cols = df.select_dtypes(exclude='number')\n"
   ]
  },
  {
   "cell_type": "code",
   "execution_count": 31,
   "metadata": {},
   "outputs": [],
   "source": [
    "df = pd.get_dummies(df)"
   ]
  },
  {
   "cell_type": "markdown",
   "metadata": {},
   "source": [
    "Handles missing values.\n"
   ]
  },
  {
   "cell_type": "code",
   "execution_count": 32,
   "metadata": {},
   "outputs": [],
   "source": [
    "def handle_missing_values(df, prop_required_columns=0.5, prop_required_row=0.75):\n",
    "    threshold = int(round(prop_required_columns * len(df.index), 0))\n",
    "    df = df.dropna(axis=1, thresh=threshold)\n",
    "    threshold = int(round(prop_required_row * len(df.index), 0))\n",
    "    df = df.dropna(axis=0, thresh=threshold)\n",
    "\n",
    "    return df"
   ]
  },
  {
   "cell_type": "code",
   "execution_count": 33,
   "metadata": {},
   "outputs": [],
   "source": [
    "handle_missing_values(df)"
   ]
  },
  {
   "cell_type": "markdown",
   "metadata": {},
   "source": [
    "Scaling\n"
   ]
  },
  {
   "cell_type": "code",
   "execution_count": 35,
   "metadata": {},
   "outputs": [],
   "source": [
    "def scale_split_data (train, validate, test):\n",
    "    train_scaled = MinMaxScaler(train)\n",
    "    validate_scaled = MinMaxScaler(validate)\n",
    "    test_scaled = MinMaxScaler(test)\n",
    "\n",
    "    return train_scaled, validate_scaled, test_scaled"
   ]
  },
  {
   "cell_type": "code",
   "execution_count": 36,
   "metadata": {},
   "outputs": [],
   "source": [
    "train_scaled, validate_scaled, test_scaled = scale_split_data(train, validate, test)"
   ]
  }
 ],
 "metadata": {
  "kernelspec": {
   "display_name": "Python 3.9.12 ('base')",
   "language": "python",
   "name": "python3"
  },
  "language_info": {
   "codemirror_mode": {
    "name": "ipython",
    "version": 3
   },
   "file_extension": ".py",
   "mimetype": "text/x-python",
   "name": "python",
   "nbconvert_exporter": "python",
   "pygments_lexer": "ipython3",
   "version": "3.9.12"
  },
  "orig_nbformat": 4,
  "vscode": {
   "interpreter": {
    "hash": "38cca0c38332a56087b24af0bc80247f4fced29cb4f7f437d91dc159adec9c4e"
   }
  }
 },
 "nbformat": 4,
 "nbformat_minor": 2
}
